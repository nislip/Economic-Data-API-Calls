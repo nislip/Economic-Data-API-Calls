{
 "cells": [
  {
   "cell_type": "code",
   "execution_count": 15,
   "metadata": {},
   "outputs": [],
   "source": [
    "import pandas as pd\n",
    "import requests # used for gathering API \n",
    "import json\n",
    "import numpy as np\n",
    "from pandas import DataFrame\n",
    "from lxml import html # meh, don't really need\n",
    "import zipfile \n",
    "from zipfile import ZipFile # Help manage zips\n",
    "from pathlib import Path # Converts file extension\n",
    "\n",
    "# To install package CHECK: py -m pip --version (In command prompt)\n",
    "# python -m pip install requests-html \n",
    "# HOW TO UNZIP: https://youtu.be/tDnla1qAzpg\n",
    "\n",
    "# Requesting all links associated with the page\n",
    "\n",
    "\n",
    "# (1) International Energy Data \n",
    "\n",
    "r = requests.get('http://api.eia.gov/bulk/INTL.zip') # Request file from server\n",
    "with open('INTdata.zip', 'wb') as f:\n",
    "    f.write(r.content)\n",
    "\n",
    "# Extract contents, of zip file, txt\n",
    "\n",
    "unzip_file = zipfile.ZipFile('INTdata.zip', 'r') \n",
    "unzip_file.extractall()\n",
    "\n",
    "# https://pynative.com/python-parse-multiple-json-objects-from-file/\n",
    "# convert txt with multiple json objects to json array in python\n",
    "\n",
    "IntlList = []\n",
    "with open('INTL.txt') as f:\n",
    "    for jsonObj in f:\n",
    "        IntlDict = json.loads(jsonObj)\n",
    "        IntlList.append(IntlDict)\n",
    "    df = pd.DataFrame.from_dict(IntlList)\n",
    "    df2 = df.iloc[[2,4]]\n",
    "    df3 = df2[['data', 'series_id']]\n",
    "    df4 = df3.explode('data')"
   ]
  },
  {
   "cell_type": "code",
   "execution_count": 17,
   "metadata": {},
   "outputs": [
    {
     "data": {
      "text/html": [
       "<div>\n",
       "<style scoped>\n",
       "    .dataframe tbody tr th:only-of-type {\n",
       "        vertical-align: middle;\n",
       "    }\n",
       "\n",
       "    .dataframe tbody tr th {\n",
       "        vertical-align: top;\n",
       "    }\n",
       "\n",
       "    .dataframe thead th {\n",
       "        text-align: right;\n",
       "    }\n",
       "</style>\n",
       "<table border=\"1\" class=\"dataframe\">\n",
       "  <thead>\n",
       "    <tr style=\"text-align: right;\">\n",
       "      <th></th>\n",
       "      <th>data</th>\n",
       "      <th>series_id</th>\n",
       "    </tr>\n",
       "  </thead>\n",
       "  <tbody>\n",
       "    <tr>\n",
       "      <th>2</th>\n",
       "      <td>[2018, 5.53567365991946]</td>\n",
       "      <td>INTL.26-2-AFRC-QBTU.A</td>\n",
       "    </tr>\n",
       "    <tr>\n",
       "      <th>2</th>\n",
       "      <td>[2017, 5.321476589270725]</td>\n",
       "      <td>INTL.26-2-AFRC-QBTU.A</td>\n",
       "    </tr>\n",
       "    <tr>\n",
       "      <th>2</th>\n",
       "      <td>[2016, 5.052221141277697]</td>\n",
       "      <td>INTL.26-2-AFRC-QBTU.A</td>\n",
       "    </tr>\n",
       "    <tr>\n",
       "      <th>2</th>\n",
       "      <td>[2015, 4.924789177943956]</td>\n",
       "      <td>INTL.26-2-AFRC-QBTU.A</td>\n",
       "    </tr>\n",
       "    <tr>\n",
       "      <th>2</th>\n",
       "      <td>[2014, 4.89373056865]</td>\n",
       "      <td>INTL.26-2-AFRC-QBTU.A</td>\n",
       "    </tr>\n",
       "    <tr>\n",
       "      <th>...</th>\n",
       "      <td>...</td>\n",
       "      <td>...</td>\n",
       "    </tr>\n",
       "    <tr>\n",
       "      <th>4</th>\n",
       "      <td>[1984, 133]</td>\n",
       "      <td>INTL.26-2-BHR-BCF.A</td>\n",
       "    </tr>\n",
       "    <tr>\n",
       "      <th>4</th>\n",
       "      <td>[1983, 140]</td>\n",
       "      <td>INTL.26-2-BHR-BCF.A</td>\n",
       "    </tr>\n",
       "    <tr>\n",
       "      <th>4</th>\n",
       "      <td>[1982, 130]</td>\n",
       "      <td>INTL.26-2-BHR-BCF.A</td>\n",
       "    </tr>\n",
       "    <tr>\n",
       "      <th>4</th>\n",
       "      <td>[1981, 120]</td>\n",
       "      <td>INTL.26-2-BHR-BCF.A</td>\n",
       "    </tr>\n",
       "    <tr>\n",
       "      <th>4</th>\n",
       "      <td>[1980, 100]</td>\n",
       "      <td>INTL.26-2-BHR-BCF.A</td>\n",
       "    </tr>\n",
       "  </tbody>\n",
       "</table>\n",
       "<p>79 rows × 2 columns</p>\n",
       "</div>"
      ],
      "text/plain": [
       "                         data              series_id\n",
       "2    [2018, 5.53567365991946]  INTL.26-2-AFRC-QBTU.A\n",
       "2   [2017, 5.321476589270725]  INTL.26-2-AFRC-QBTU.A\n",
       "2   [2016, 5.052221141277697]  INTL.26-2-AFRC-QBTU.A\n",
       "2   [2015, 4.924789177943956]  INTL.26-2-AFRC-QBTU.A\n",
       "2       [2014, 4.89373056865]  INTL.26-2-AFRC-QBTU.A\n",
       "..                        ...                    ...\n",
       "4                 [1984, 133]    INTL.26-2-BHR-BCF.A\n",
       "4                 [1983, 140]    INTL.26-2-BHR-BCF.A\n",
       "4                 [1982, 130]    INTL.26-2-BHR-BCF.A\n",
       "4                 [1981, 120]    INTL.26-2-BHR-BCF.A\n",
       "4                 [1980, 100]    INTL.26-2-BHR-BCF.A\n",
       "\n",
       "[79 rows x 2 columns]"
      ]
     },
     "execution_count": 17,
     "metadata": {},
     "output_type": "execute_result"
    }
   ],
   "source": [
    "df4"
   ]
  },
  {
   "cell_type": "code",
   "execution_count": 1,
   "metadata": {},
   "outputs": [
    {
     "data": {
      "text/plain": [
       "list"
      ]
     },
     "execution_count": 1,
     "metadata": {},
     "output_type": "execute_result"
    }
   ],
   "source": [
    "data = [[2019, 0.060648574], [2018, 0.0651357]]\n",
    "type(data)"
   ]
  },
  {
   "cell_type": "code",
   "execution_count": null,
   "metadata": {},
   "outputs": [],
   "source": []
  }
 ],
 "metadata": {
  "kernelspec": {
   "display_name": "Python 3",
   "language": "python",
   "name": "python3"
  },
  "language_info": {
   "codemirror_mode": {
    "name": "ipython",
    "version": 3
   },
   "file_extension": ".py",
   "mimetype": "text/x-python",
   "name": "python",
   "nbconvert_exporter": "python",
   "pygments_lexer": "ipython3",
   "version": "3.7.6"
  }
 },
 "nbformat": 4,
 "nbformat_minor": 4
}
